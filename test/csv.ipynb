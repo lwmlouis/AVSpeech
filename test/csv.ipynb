{
 "cells": [
  {
   "cell_type": "code",
   "outputs": [],
   "source": [
    "import csv\n",
    "\n",
    "\n",
    "class VidInfo:\n",
    "    def __init__(self, id: str, start: float, end: float, face_x: float, face_y: float):\n",
    "        self.id = id\n",
    "        self.start = float(start)\n",
    "        self.end = float(end)\n",
    "        self.face_x = float(face_x)\n",
    "        self.face_y = float(face_y)\n",
    "\n",
    "    def __str__(self):\n",
    "        return f'{self.id},{self.start},{self.end}, {self.face_x},{self.face_y}'\n",
    "\n",
    "\n",
    "with open('../avspeech_train.csv', 'r') as f:\n",
    "    reader = csv.reader(f)\n",
    "    for i, row in enumerate(reader):\n",
    "        vi = VidInfo(*row)\n",
    "        break\n",
    "\n",
    "print(vi)\n"
   ],
   "metadata": {
    "collapsed": false
   },
   "id": "6c5d72207eb972e"
  },
  {
   "cell_type": "code",
   "outputs": [
    {
     "name": "stdout",
     "output_type": "stream",
     "text": [
      "['CJoOwXcjhds', 'AvWWVOgaMlk', 'Y8HMIm8mdns', 'akwvpAiLFk0', 'Swss72CHSWg']\n"
     ]
    }
   ],
   "source": [
    "import pandas as pd\n",
    "import shutil\n",
    "from os import mkdir\n",
    "\n",
    "# 存在重复\n",
    "df = pd.read_csv('../avspeech_train.csv', header=None,\n",
    "                 names=['id', 'start', 'end', 'x', 'y'], index_col='id')\n",
    "print(df.index[:5].tolist())\n",
    "\n",
    "\n"
   ],
   "metadata": {
    "collapsed": false,
    "ExecuteTime": {
     "end_time": "2024-01-27T03:53:25.217885700Z",
     "start_time": "2024-01-27T03:53:22.371134Z"
    }
   },
   "id": "a98cee32eac102d0",
   "execution_count": 12
  },
  {
   "cell_type": "code",
   "outputs": [
    {
     "name": "stdout",
     "output_type": "stream",
     "text": [
      "RangeIndex(start=0, stop=2621845, step=1)\n"
     ]
    },
    {
     "ename": "FileNotFoundError",
     "evalue": "[Errno 2] No such file or directory: '../data/train.txt'",
     "output_type": "error",
     "traceback": [
      "\u001B[1;31m---------------------------------------------------------------------------\u001B[0m",
      "\u001B[1;31mFileNotFoundError\u001B[0m                         Traceback (most recent call last)",
      "Cell \u001B[1;32mIn[8], line 15\u001B[0m\n\u001B[0;32m     12\u001B[0m unique_ids \u001B[38;5;241m=\u001B[39m unique_rows[\u001B[38;5;124m'\u001B[39m\u001B[38;5;124mid\u001B[39m\u001B[38;5;124m'\u001B[39m]\u001B[38;5;241m.\u001B[39mtolist()\n\u001B[0;32m     14\u001B[0m \u001B[38;5;66;03m# 把已下载的只有一个时间段的视频移动到对应的文件夹\u001B[39;00m\n\u001B[1;32m---> 15\u001B[0m \u001B[38;5;28;01mwith\u001B[39;00m \u001B[38;5;28;43mopen\u001B[39;49m\u001B[43m(\u001B[49m\u001B[38;5;124;43m'\u001B[39;49m\u001B[38;5;124;43m../data/train.txt\u001B[39;49m\u001B[38;5;124;43m'\u001B[39;49m\u001B[43m,\u001B[49m\u001B[43m \u001B[49m\u001B[38;5;124;43m'\u001B[39;49m\u001B[38;5;124;43mr\u001B[39;49m\u001B[38;5;124;43m'\u001B[39;49m\u001B[43m)\u001B[49m \u001B[38;5;28;01mas\u001B[39;00m f:\n\u001B[0;32m     16\u001B[0m     downloaded \u001B[38;5;241m=\u001B[39m [line\u001B[38;5;241m.\u001B[39mstrip() \u001B[38;5;28;01mfor\u001B[39;00m line \u001B[38;5;129;01min\u001B[39;00m f]\n\u001B[0;32m     18\u001B[0m     \u001B[38;5;28;01mfor\u001B[39;00m uid \u001B[38;5;129;01min\u001B[39;00m unique_ids:\n",
      "File \u001B[1;32mC:\\tools\\miniconda3\\envs\\lipsync_web\\lib\\site-packages\\IPython\\core\\interactiveshell.py:308\u001B[0m, in \u001B[0;36m_modified_open\u001B[1;34m(file, *args, **kwargs)\u001B[0m\n\u001B[0;32m    301\u001B[0m \u001B[38;5;28;01mif\u001B[39;00m file \u001B[38;5;129;01min\u001B[39;00m {\u001B[38;5;241m0\u001B[39m, \u001B[38;5;241m1\u001B[39m, \u001B[38;5;241m2\u001B[39m}:\n\u001B[0;32m    302\u001B[0m     \u001B[38;5;28;01mraise\u001B[39;00m \u001B[38;5;167;01mValueError\u001B[39;00m(\n\u001B[0;32m    303\u001B[0m         \u001B[38;5;124mf\u001B[39m\u001B[38;5;124m\"\u001B[39m\u001B[38;5;124mIPython won\u001B[39m\u001B[38;5;124m'\u001B[39m\u001B[38;5;124mt let you open fd=\u001B[39m\u001B[38;5;132;01m{\u001B[39;00mfile\u001B[38;5;132;01m}\u001B[39;00m\u001B[38;5;124m by default \u001B[39m\u001B[38;5;124m\"\u001B[39m\n\u001B[0;32m    304\u001B[0m         \u001B[38;5;124m\"\u001B[39m\u001B[38;5;124mas it is likely to crash IPython. If you know what you are doing, \u001B[39m\u001B[38;5;124m\"\u001B[39m\n\u001B[0;32m    305\u001B[0m         \u001B[38;5;124m\"\u001B[39m\u001B[38;5;124myou can use builtins\u001B[39m\u001B[38;5;124m'\u001B[39m\u001B[38;5;124m open.\u001B[39m\u001B[38;5;124m\"\u001B[39m\n\u001B[0;32m    306\u001B[0m     )\n\u001B[1;32m--> 308\u001B[0m \u001B[38;5;28;01mreturn\u001B[39;00m io_open(file, \u001B[38;5;241m*\u001B[39margs, \u001B[38;5;241m*\u001B[39m\u001B[38;5;241m*\u001B[39mkwargs)\n",
      "\u001B[1;31mFileNotFoundError\u001B[0m: [Errno 2] No such file or directory: '../data/train.txt'"
     ]
    }
   ],
   "source": [
    "\n",
    "# 存在重复\n",
    "df = pd.read_csv('../avspeech_train.csv', header=None,\n",
    "                 names=['id', 'start', 'end', 'x', 'y'])\n",
    "\n",
    "unique_rows = df.drop_duplicates(subset='id', keep=False)\n",
    "unique_ids = unique_rows['id'].tolist()\n",
    "\n",
    "# 把已下载的只有一个时间段的视频移动到对应的文件夹\n",
    "with open('../data/train.txt', 'r') as f:\n",
    "    downloaded = [line.strip() for line in f]\n",
    "\n",
    "    for uid in unique_ids:\n",
    "        if uid in downloaded:\n",
    "            try:\n",
    "                mkdir(f'../data/train/{uid}')\n",
    "                shutil.move(f'../data/train/{uid}.mp4', f'../data/train/{uid}/1.mp4')\n",
    "            except:\n",
    "                ...\n"
   ],
   "metadata": {
    "collapsed": false,
    "ExecuteTime": {
     "end_time": "2024-01-27T03:51:48.432589300Z",
     "start_time": "2024-01-27T03:51:45.086974900Z"
    }
   },
   "id": "9bdbbef6c01a504d",
   "execution_count": 8
  },
  {
   "cell_type": "code",
   "outputs": [
    {
     "name": "stdout",
     "output_type": "stream",
     "text": [
      "             start_time    end_time         x         y\n",
      "id                                                     \n",
      "AvWWVOgaMlk   90.000000   93.566667  0.586719  0.311111\n",
      "AvWWVOgaMlk   38.800000   47.433333  0.571875  0.277778\n",
      "AvWWVOgaMlk  227.633333  240.000000  0.528125  0.337500\n",
      "AvWWVOgaMlk   78.900000   90.000000  0.496875  0.347222\n",
      "AvWWVOgaMlk  254.000000  266.700000  0.621875  0.323611\n",
      "AvWWVOgaMlk   53.033333   60.000000  0.594531  0.281944\n",
      "AvWWVOgaMlk  180.000000  191.000000  0.550000  0.305556\n",
      "AvWWVOgaMlk  245.166667  250.766667  0.522656  0.322222\n",
      "AvWWVOgaMlk  240.000000  244.166667  0.503906  0.327778\n",
      "AvWWVOgaMlk   60.000000   73.833333  0.545312  0.327778\n",
      "AvWWVOgaMlk   30.000000   35.166667  0.550781  0.318056\n",
      "AvWWVOgaMlk   48.233333   52.066667  0.543750  0.331944\n"
     ]
    },
    {
     "data": {
      "text/plain": "[{'start_time': 9.342667, 'end_time': 21.5215}]"
     },
     "execution_count": 7,
     "metadata": {},
     "output_type": "execute_result"
    }
   ],
   "source": [
    "import pandas as pd\n",
    "\n",
    "df = pd.read_csv('../avspeech_train.csv', header=None,\n",
    "                 names=['id', 'start_time', 'end_time', 'x', 'y'], index_col=0)\n",
    "\n",
    "# [xxx]避免单行数据被转换为Series\n",
    "# print(df.loc[['JVYBpAp8aRs']])\n",
    "# print(len(df), len(df.loc[['JVYBpAp8aRs']]))\n",
    "\n",
    "print(df.loc['AvWWVOgaMlk'])\n",
    "\n",
    "df.loc[['JVYBpAp8aRs'], ['start_time', 'end_time']].to_dict('records')\n"
   ],
   "metadata": {
    "collapsed": false,
    "ExecuteTime": {
     "end_time": "2024-01-27T03:45:15.053104500Z",
     "start_time": "2024-01-27T03:45:11.220885Z"
    }
   },
   "id": "74e3e2f4d9422886",
   "execution_count": 7
  }
 ],
 "metadata": {
  "kernelspec": {
   "display_name": "Python 3",
   "language": "python",
   "name": "python3"
  },
  "language_info": {
   "codemirror_mode": {
    "name": "ipython",
    "version": 2
   },
   "file_extension": ".py",
   "mimetype": "text/x-python",
   "name": "python",
   "nbconvert_exporter": "python",
   "pygments_lexer": "ipython2",
   "version": "2.7.6"
  }
 },
 "nbformat": 4,
 "nbformat_minor": 5
}
