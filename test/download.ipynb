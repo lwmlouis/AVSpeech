{
 "cells": [
  {
   "cell_type": "markdown",
   "source": [
    "# CSV"
   ],
   "metadata": {
    "collapsed": false
   },
   "id": "cf4548de9e4f7bbe"
  },
  {
   "cell_type": "code",
   "execution_count": 9,
   "id": "initial_id",
   "metadata": {
    "collapsed": true,
    "ExecuteTime": {
     "end_time": "2024-01-23T11:59:49.583185300Z",
     "start_time": "2024-01-23T11:59:49.578876500Z"
    }
   },
   "outputs": [
    {
     "name": "stdout",
     "output_type": "stream",
     "text": [
      "dict_keys(['CJoOwXcjhds', 'AvWWVOgaMlk', 'Y8HMIm8mdns'])\n"
     ]
    }
   ],
   "source": [
    "import csv\n",
    "\n",
    "\n",
    "class VidInfo:\n",
    "    def __init__(self, id: str, start: float, end: float, face_x: float, face_y: float):\n",
    "        self.id = id\n",
    "        self.start = float(start)\n",
    "        self.end = float(end)\n",
    "        self.face_x = float(face_x)\n",
    "        self.face_y = float(face_y)\n",
    "\n",
    "    def __str__(self):\n",
    "        return f'{self.id},{self.start},{self.end}, {self.face_x},{self.face_y}'\n",
    "\n",
    "\n",
    "vidInfos = {}\n",
    "with open('../avspeech_train.csv', 'r') as f:\n",
    "    reader = csv.reader(f)\n",
    "    for i, row in enumerate(reader):\n",
    "        if i > 2:\n",
    "            break\n",
    "        vi = VidInfo(*row)\n",
    "        vidInfos[vi.id] = vi\n",
    "\n",
    "print(vidInfos.keys())"
   ]
  },
  {
   "cell_type": "code",
   "outputs": [],
   "source": [
    "\n",
    "import pandas as pd\n",
    "import shutil\n",
    "from os import mkdir\n",
    "\n",
    "# 存在重复\n",
    "df = pd.read_csv('../avspeech_train.csv', header=None,\n",
    "                 names=['id', 'start_time', 'end_time', 'x', 'y'])\n",
    "# print(df.loc['Y8HMIm8mdns'])\n",
    "\n",
    "unique_rows = df.drop_duplicates(subset='id', keep=False)\n",
    "unique_ids = unique_rows['id'].tolist()\n",
    "\n",
    "with open('../data/train.txt', 'r') as f:\n",
    "    downloaded = [line.strip() for line in f]\n",
    "\n",
    "    for uid in unique_ids:\n",
    "        if uid in downloaded:\n",
    "            try:\n",
    "                mkdir(f'../data/train/{uid}')\n",
    "                shutil.move(f'../data/train/{uid}.mp4', f'../data/train/{uid}/1.mp4')\n",
    "            except:\n",
    "                ...\n"
   ],
   "metadata": {
    "collapsed": false,
    "ExecuteTime": {
     "end_time": "2024-01-26T03:55:38.304744300Z",
     "start_time": "2024-01-26T03:55:14.018805800Z"
    }
   },
   "id": "92e22dfe0e67ce90",
   "execution_count": 26
  },
  {
   "cell_type": "code",
   "outputs": [
    {
     "name": "stdout",
     "output_type": "stream",
     "text": [
      "             start_time  end_time         x         y\n",
      "id                                                   \n",
      "JVYBpAp8aRs    9.342667   21.5215  0.385937  0.222222\n",
      "2621845 1\n"
     ]
    }
   ],
   "source": [
    "import pandas as pd\n",
    "\n",
    "df = pd.read_csv('../avspeech_train.csv', header=None,\n",
    "                 names=['id', 'start_time', 'end_time', 'x', 'y'], index_col=0)\n",
    "print(df.loc[['JVYBpAp8aRs']])\n",
    "print(len(df), len(df.loc[['JVYBpAp8aRs']]))\n",
    "\n",
    "# rng = grp.apply(lambda x: {\n",
    "#     'start_time': x['start_time'],\n",
    "#     'end_time': x['end_time']\n",
    "# }, axis=1).to_list()\n",
    "# print(rng)\n",
    "\n",
    "# grouped = df.groupby('id')\n",
    "# \n",
    "# for name, group in grouped:\n",
    "#     print(name)\n",
    "#     print(group)\n",
    "# \n",
    "#     break\n",
    "\n"
   ],
   "metadata": {
    "collapsed": false,
    "ExecuteTime": {
     "end_time": "2024-01-26T04:05:41.803150Z",
     "start_time": "2024-01-26T04:05:37.643640500Z"
    }
   },
   "id": "1483f3eeac7a54b2",
   "execution_count": 29
  },
  {
   "cell_type": "code",
   "outputs": [
    {
     "name": "stdout",
     "output_type": "stream",
     "text": [
      "[youtube] Extracting URL: https://www.youtube.com/watch?v=CJoOwXcjhds\n",
      "[youtube] CJoOwXcjhds: Downloading webpage\n",
      "[youtube] CJoOwXcjhds: Downloading ios player API JSON\n",
      "[youtube] CJoOwXcjhds: Downloading android player API JSON\n"
     ]
    },
    {
     "name": "stderr",
     "output_type": "stream",
     "text": [
      "ERROR: [youtube] CJoOwXcjhds: Video unavailable. This video is no longer available because the YouTube account associated with this video has been terminated.\n"
     ]
    },
    {
     "name": "stdout",
     "output_type": "stream",
     "text": [
      "[youtube] Extracting URL: https://www.youtube.com/watch?v=AvWWVOgaMlk\n",
      "[youtube] AvWWVOgaMlk: Downloading webpage\n",
      "[youtube] AvWWVOgaMlk: Downloading ios player API JSON\n",
      "[youtube] AvWWVOgaMlk: Downloading android player API JSON\n",
      "[youtube] AvWWVOgaMlk: Downloading m3u8 information\n",
      "AvWWVOgaMlk\n",
      "[info] AvWWVOgaMlk: Downloading 1 format(s): 22\n",
      "[info] AvWWVOgaMlk: Downloading 1 time ranges: 90.0-93.6\n",
      "[youtube] Extracting URL: https://www.youtube.com/watch?v=Y8HMIm8mdns\n",
      "[youtube] Y8HMIm8mdns: Downloading webpage\n",
      "[youtube] Y8HMIm8mdns: Downloading ios player API JSON\n",
      "[youtube] Y8HMIm8mdns: Downloading android player API JSON\n",
      "[youtube] Y8HMIm8mdns: Downloading m3u8 information\n",
      "Y8HMIm8mdns\n",
      "[info] Y8HMIm8mdns: Downloading 1 format(s): 22\n",
      "[info] Y8HMIm8mdns: Downloading 1 time ranges: 171.6-174.6\n"
     ]
    }
   ],
   "source": [
    "import yt_dlp\n",
    "\n",
    "URLS = [f'https://www.youtube.com/watch?v={vi.id}' for vi in vidInfos.values()]\n",
    "\n",
    "data_dir = '.'\n",
    "\n",
    "\n",
    "class MyLogger:\n",
    "    def error(self, msg):\n",
    "        print(msg)\n",
    "\n",
    "\n",
    "def download_range_callback(info, ydl):\n",
    "    print(info['id'])\n",
    "\n",
    "    return [{\n",
    "        'start_time': vidInfos[info['id']].start,\n",
    "        'end_time': vidInfos[info['id']].end\n",
    "    }]\n",
    "\n",
    "\n",
    "ydl_opts = {\n",
    "    'format': 'best[ext=mp4]',\n",
    "    'outtmpl': f'{data_dir}/%(id)s/%(autonumber)d.%(ext)s',\n",
    "    'simulate': True,\n",
    "    'ignoreerrors': True,\n",
    "    'download_ranges': download_range_callback,\n",
    "    # 'progress_hooks': [download_callback],\n",
    "    'proxy': 'http://127.0.0.1:10809'\n",
    "}\n",
    "\n",
    "with yt_dlp.YoutubeDL(ydl_opts) as ydl:\n",
    "    er = ydl.download(URLS)\n",
    "\n"
   ],
   "metadata": {
    "collapsed": false,
    "ExecuteTime": {
     "end_time": "2024-01-23T12:00:44.373000100Z",
     "start_time": "2024-01-23T12:00:39.031649400Z"
    }
   },
   "id": "fff93630e34151bd",
   "execution_count": 10
  }
 ],
 "metadata": {
  "kernelspec": {
   "display_name": "Python 3",
   "language": "python",
   "name": "python3"
  },
  "language_info": {
   "codemirror_mode": {
    "name": "ipython",
    "version": 2
   },
   "file_extension": ".py",
   "mimetype": "text/x-python",
   "name": "python",
   "nbconvert_exporter": "python",
   "pygments_lexer": "ipython2",
   "version": "2.7.6"
  }
 },
 "nbformat": 4,
 "nbformat_minor": 5
}
