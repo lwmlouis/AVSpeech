{
 "cells": [
  {
   "cell_type": "code",
   "outputs": [
    {
     "name": "stdout",
     "output_type": "stream",
     "text": [
      "[youtube] Extracting URL: https://www.youtube.com/watch?v=CJoOwXcjhds\n",
      "[youtube] CJoOwXcjhds: Downloading webpage\n",
      "[youtube] CJoOwXcjhds: Downloading ios player API JSON\n",
      "[youtube] CJoOwXcjhds: Downloading android player API JSON\n"
     ]
    },
    {
     "name": "stderr",
     "output_type": "stream",
     "text": [
      "ERROR: [youtube] CJoOwXcjhds: Video unavailable. This video is no longer available because the YouTube account associated with this video has been terminated.\n"
     ]
    },
    {
     "name": "stdout",
     "output_type": "stream",
     "text": [
      "[youtube] Extracting URL: https://www.youtube.com/watch?v=AvWWVOgaMlk\n",
      "[youtube] AvWWVOgaMlk: Downloading webpage\n",
      "[youtube] AvWWVOgaMlk: Downloading ios player API JSON\n",
      "[youtube] AvWWVOgaMlk: Downloading android player API JSON\n",
      "[youtube] AvWWVOgaMlk: Downloading m3u8 information\n",
      "AvWWVOgaMlk\n",
      "[info] AvWWVOgaMlk: Downloading 1 format(s): 22\n",
      "[info] AvWWVOgaMlk: Downloading 1 time ranges: 90.0-93.6\n",
      "[youtube] Extracting URL: https://www.youtube.com/watch?v=Y8HMIm8mdns\n",
      "[youtube] Y8HMIm8mdns: Downloading webpage\n",
      "[youtube] Y8HMIm8mdns: Downloading ios player API JSON\n",
      "[youtube] Y8HMIm8mdns: Downloading android player API JSON\n",
      "[youtube] Y8HMIm8mdns: Downloading m3u8 information\n",
      "Y8HMIm8mdns\n",
      "[info] Y8HMIm8mdns: Downloading 1 format(s): 22\n",
      "[info] Y8HMIm8mdns: Downloading 1 time ranges: 171.6-174.6\n"
     ]
    }
   ],
   "source": [
    "import yt_dlp\n",
    "\n",
    "URLS = ['https://www.youtube.com/watch?v=JVYBpAp8aRs']\n",
    "\n",
    "data_dir = '.'\n",
    "\n",
    "\n",
    "def download_range_callback(info, ydl):\n",
    "    print(info['id'])\n",
    "\n",
    "    return [{\n",
    "        'start': 9.342667,\n",
    "        'end': 21.5215\n",
    "    }]\n",
    "\n",
    "\n",
    "ydl_opts = {\n",
    "    'format': 'best[ext=mp4]',\n",
    "    'outtmpl': f'{data_dir}/%(id)s/%(autonumber)d.%(ext)s',\n",
    "    'simulate': True,\n",
    "    'ignoreerrors': True,\n",
    "    'download_ranges': download_range_callback,\n",
    "    'proxy': 'http://127.0.0.1:10809'\n",
    "}\n",
    "\n",
    "with yt_dlp.YoutubeDL(ydl_opts) as ydl:\n",
    "    er = ydl.download(URLS)\n",
    "\n"
   ],
   "metadata": {
    "collapsed": false,
    "ExecuteTime": {
     "end_time": "2024-01-23T12:00:44.373000100Z",
     "start_time": "2024-01-23T12:00:39.031649400Z"
    }
   },
   "id": "fff93630e34151bd",
   "execution_count": 10
  }
 ],
 "metadata": {
  "kernelspec": {
   "display_name": "Python 3",
   "language": "python",
   "name": "python3"
  },
  "language_info": {
   "codemirror_mode": {
    "name": "ipython",
    "version": 2
   },
   "file_extension": ".py",
   "mimetype": "text/x-python",
   "name": "python",
   "nbconvert_exporter": "python",
   "pygments_lexer": "ipython2",
   "version": "2.7.6"
  }
 },
 "nbformat": 4,
 "nbformat_minor": 5
}
